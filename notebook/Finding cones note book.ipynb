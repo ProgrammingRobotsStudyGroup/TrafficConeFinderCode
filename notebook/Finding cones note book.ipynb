{
 "cells": [
  {
   "cell_type": "code",
   "execution_count": null,
   "metadata": {
    "collapsed": false
   },
   "outputs": [],
   "source": [
    "import numpy as np\n",
    "import matplotlib.pyplot as plt\n",
    "import cv2\n",
    "\n",
    "# load a image\n",
    "img = cv2.imread('../images/14.jpg', -1)\n",
    "\n",
    "print('Image shape ', img.shape)\n",
    "\n",
    "# cv2.imshow('Image ',img)\n",
    "\n",
    "#show what going on\n",
    "plt.axis(\"off\")\n",
    "plt.imshow(cv2.cvtColor(img, cv2.COLOR_BGR2RGB))\n",
    "plt.show()\n"
   ]
  },
  {
   "cell_type": "code",
   "execution_count": null,
   "metadata": {
    "collapsed": false
   },
   "outputs": [],
   "source": [
    "# convert to HSV color space, this will produce better color filtering\n",
    "imgHSV = cv2.cvtColor(img, cv2.COLOR_BGR2HSV)\n",
    "\n",
    "#threshold on low range of HSV red\n",
    "low_redl = np.array([0, 135, 135])\n",
    "low_redh = np.array([15, 255, 255])\n",
    "imgThreshLow = cv2.inRange(imgHSV, low_redl, low_redh)\n",
    "\n",
    "#threshold on high range of HSV red\n",
    "high_redl = np.array([159, 135, 135])\n",
    "high_redh = np.array([179, 255, 255])\n",
    "imgThreshHigh = cv2.inRange(imgHSV, high_redl, high_redh)\n",
    "\n",
    "#combine low range red thresh and high range red thresh\n",
    "imgThresh = cv2.bitwise_or(imgThreshLow, imgThreshHigh)\n",
    "\n",
    "\n",
    "#show what going on\n",
    "plt.axis(\"off\")\n",
    "plt.imshow(imgThresh, cmap='Greys_r')\n",
    "plt.show()\n",
    "\n"
   ]
  },
  {
   "cell_type": "code",
   "execution_count": null,
   "metadata": {
    "collapsed": false
   },
   "outputs": [],
   "source": [
    "imgThreshSmoothed = imgThresh.copy()\n",
    "\n",
    "#open image (erode, then dilate)\n",
    "kernel = np.ones((3, 3), np.uint8)\n",
    "imgThreshSmoothed = cv2.erode(imgThresh, kernel, iterations=1)\n",
    "imgThreshSmoothed = cv2.dilate(imgThreshSmoothed, kernel, iterations=1)\n",
    "#Gaussian blur\n",
    "imgThreshSmoothed = cv2.GaussianBlur(imgThreshSmoothed, (5, 5), 0)\n",
    "\n",
    "plt.axis(\"off\")\n",
    "\n",
    "plt.imshow(imgThreshSmoothed, cmap='Greys_r')\n",
    "plt.show()\n"
   ]
  },
  {
   "cell_type": "code",
   "execution_count": null,
   "metadata": {
    "collapsed": false
   },
   "outputs": [],
   "source": [
    "imgCanny = cv2.Canny(imgThreshSmoothed,160,80)\n",
    "\n",
    "plt.axis(\"off\")\n",
    "\n",
    "plt.imshow(imgCanny, cmap='Greys_r')\n",
    "plt.show()"
   ]
  },
  {
   "cell_type": "code",
   "execution_count": null,
   "metadata": {
    "collapsed": false,
    "scrolled": true
   },
   "outputs": [],
   "source": [
    "image, contours, hierarchy = cv2.findContours(imgCanny,cv2.RETR_EXTERNAL,cv2.CHAIN_APPROX_SIMPLE)\n",
    "print('len(contours)',len(contours))\n",
    "#plt.axis(\"off\")\n",
    "plt.imshow(imgCanny, cmap='Greys_r')\n",
    "#plt.imshow(image, cmap='Greys_r')\n",
    "plt.show()"
   ]
  },
  {
   "cell_type": "code",
   "execution_count": null,
   "metadata": {
    "collapsed": false
   },
   "outputs": [],
   "source": [
    "listOfContours = []\n",
    "if len(contours) != 0:\n",
    "    for cnt in contours:\n",
    "        epsilon = 6.7 # something to play with to fine tune\n",
    "        # print'epsilon',epsilon\n",
    "        listOfContours.append(cv2.approxPolyDP(cnt, epsilon, True))\n",
    "\n",
    "imghull2 = img.copy()\n",
    "cv2.drawContours(imghull2, listOfContours, -1, (0,255,0), 3)\n",
    "\n",
    "#show what going on\n",
    "plt.axis(\"off\")\n",
    "plt.imshow(cv2.cvtColor(imghull2, cv2.COLOR_BGR2RGB))\n",
    "plt.show()\n"
   ]
  },
  {
   "cell_type": "markdown",
   "metadata": {
    "collapsed": true
   },
   "source": [
    "ok here a function to see if Cone [listOfContours] is pointing up.\n"
   ]
  },
  {
   "cell_type": "code",
   "execution_count": null,
   "metadata": {
    "collapsed": false
   },
   "outputs": [],
   "source": [
    "#is img polluted?\n",
    "plt.axis(\"off\")\n",
    "plt.imshow(cv2.cvtColor(img, cv2.COLOR_BGR2RGB))\n",
    "plt.show()\n",
    "def convexHullIsPointingUp(hull):\n",
    "    x, y, w, h = cv2.boundingRect(hull)\n",
    "\n",
    "    aspectRatio = float(w) / h\n",
    "    print(x, y, w, h, aspectRatio)\n",
    "    if aspectRatio > 0.9:\n",
    "        print('>0.9')\n",
    "        return False\n",
    "\n",
    "    listOfPointsAboveCenter = []\n",
    "    listOfPointsBelowCenter = []\n",
    "\n",
    "    intYcenter = y + h / 2\n",
    "    print(intYcenter)\n",
    "\n",
    "    # step through all points in convex hull\n",
    "    for point in hull:\n",
    "        # and add each point to\n",
    "        # list of points above or below vertical center as applicable\n",
    "        if point[0][1] < intYcenter:\n",
    "            listOfPointsAboveCenter.append(point)\n",
    "\n",
    "        if point[0][1] >= intYcenter:\n",
    "            listOfPointsBelowCenter.append(point)\n",
    "\n",
    "    intLeftMostPointBelowCenter = listOfPointsBelowCenter[0][0][0]\n",
    "    intRightMostPointBelowCenter = listOfPointsBelowCenter[0][0][0]\n",
    "\n",
    "    # determine left most point below center\n",
    "    for point in listOfPointsBelowCenter:\n",
    "\n",
    "            if point[0][0] < intLeftMostPointBelowCenter:\n",
    "                intLeftMostPointBelowCenter = point[0][0]\n",
    "\n",
    "        # determine right most point below center\n",
    "    for point in listOfPointsBelowCenter:\n",
    "        if point[0][0] >= intRightMostPointBelowCenter:\n",
    "            intRightMostPointBelowCenter = point[0][0]\n",
    "\n",
    "        # step through all points above center\n",
    "    for point in listOfPointsAboveCenter:\n",
    "        if point[0][0] < intLeftMostPointBelowCenter or \\\n",
    "         point[0][0] > intRightMostPointBelowCenter:\n",
    "            return False\n",
    "\n",
    "    # if we get here, shape has passed pointing up check\n",
    "    return True\n"
   ]
  },
  {
   "cell_type": "code",
   "execution_count": null,
   "metadata": {
    "collapsed": false
   },
   "outputs": [],
   "source": [
    "print ('convexHull =', len(listOfContours))\n",
    "listOfCones = []\n",
    "for contour in listOfContours:\n",
    "        hull = cv2.convexHull(contour)\n",
    "        # print 'convexHull',len(temp)\n",
    "        if (len(hull) >= 3 and len(hull) <= 10):\n",
    "            print ('Lets check to see if this one pointing up')\n",
    "        else:\n",
    "            continue\n",
    "\n",
    "        if convexHullIsPointingUp(hull):\n",
    "            print ('Yes, ', hull, ' is Point up')\n",
    "            listOfCones.append(hull)\n",
    "            \n",
    "print ('Number of Cones', len(listOfCones))"
   ]
  },
  {
   "cell_type": "code",
   "execution_count": null,
   "metadata": {
    "collapsed": false
   },
   "outputs": [],
   "source": [
    "imghull = img.copy()\n",
    "cv2.drawContours(imghull, listOfCones, -1, (0, 255, 0), 3)\n",
    "#show what going on\n",
    "plt.axis(\"off\")\n",
    "plt.imshow(cv2.cvtColor(imghull, cv2.COLOR_BGR2RGB))\n",
    "plt.show()"
   ]
  },
  {
   "cell_type": "code",
   "execution_count": null,
   "metadata": {
    "collapsed": true
   },
   "outputs": [],
   "source": []
  }
 ],
 "metadata": {
  "anaconda-cloud": {},
  "kernelspec": {
   "display_name": "Python [conda env:pyt3]",
   "language": "python",
   "name": "conda-env-pyt3-py"
  },
  "language_info": {
   "codemirror_mode": {
    "name": "ipython",
    "version": 3
   },
   "file_extension": ".py",
   "mimetype": "text/x-python",
   "name": "python",
   "nbconvert_exporter": "python",
   "pygments_lexer": "ipython3",
   "version": "3.5.2"
  }
 },
 "nbformat": 4,
 "nbformat_minor": 1
}
